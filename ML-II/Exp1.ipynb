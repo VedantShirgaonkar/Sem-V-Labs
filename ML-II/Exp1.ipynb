{
 "cells": [
  {
   "cell_type": "markdown",
   "id": "uE7XboFi8tLq",
   "metadata": {
    "id": "uE7XboFi8tLq"
   },
   "source": [
    "# Experiment 1\n",
    "### Vedant Shirgaonkar\n",
    "### D114 | 60009230002"
   ]
  },
  {
   "cell_type": "code",
   "execution_count": 1,
   "id": "c629ed65",
   "metadata": {
    "executionInfo": {
     "elapsed": 27,
     "status": "ok",
     "timestamp": 1754657976465,
     "user": {
      "displayName": "Vedant Gadge",
      "userId": "16527948765948889680"
     },
     "user_tz": -330
    },
    "id": "c629ed65"
   },
   "outputs": [],
   "source": [
    "import numpy as np"
   ]
  },
  {
   "cell_type": "code",
   "execution_count": 3,
   "id": "13030698",
   "metadata": {
    "colab": {
     "base_uri": "https://localhost:8080/"
    },
    "executionInfo": {
     "elapsed": 59,
     "status": "ok",
     "timestamp": 1754657976540,
     "user": {
      "displayName": "Vedant Gadge",
      "userId": "16527948765948889680"
     },
     "user_tz": -330
    },
    "id": "13030698",
    "outputId": "69c7d800-e9ed-4028-858c-cb2add071bb6"
   },
   "outputs": [
    {
     "name": "stdout",
     "output_type": "stream",
     "text": [
      "AND(0,0) = 0\n",
      "AND(0,1) = 0\n",
      "AND(1,0) = 0\n",
      "AND(1,1) = 1\n"
     ]
    }
   ],
   "source": [
    "inputs = [[0,0], [0,1], [1,0], [1,1]]\n",
    "\n",
    "def stepFn(z):\n",
    "    if z>1:\n",
    "        return 1\n",
    "    else: return 0\n",
    "\n",
    "\n",
    "def perceptron(x,w):\n",
    "    z = np.dot(w,x)\n",
    "    y = stepFn(z)\n",
    "    return y\n",
    "\n",
    "def AND(x1,x2):\n",
    "    w = [1,1]\n",
    "    x = [x1,x2]\n",
    "    return perceptron(w,x)\n",
    "\n",
    "for inp in inputs:\n",
    "    x1, x2 = inp\n",
    "    print(f\"AND({x1},{x2}) =\", AND(x1, x2))\n",
    "\n",
    "\n"
   ]
  },
  {
   "cell_type": "code",
   "execution_count": 4,
   "id": "27afb988",
   "metadata": {
    "colab": {
     "base_uri": "https://localhost:8080/"
    },
    "executionInfo": {
     "elapsed": 3,
     "status": "ok",
     "timestamp": 1754657976544,
     "user": {
      "displayName": "Vedant Gadge",
      "userId": "16527948765948889680"
     },
     "user_tz": -330
    },
    "id": "27afb988",
    "outputId": "3159baa1-2389-48b3-ecdf-6142339708fd"
   },
   "outputs": [
    {
     "name": "stdout",
     "output_type": "stream",
     "text": [
      "NOT(1) = 0\n",
      "NOT(0) = 1\n"
     ]
    }
   ],
   "source": [
    "inputs = [1,0]\n",
    "\n",
    "def stepFn(z):\n",
    "    if z<1:\n",
    "        return 1\n",
    "    else: return 0\n",
    "\n",
    "\n",
    "def perceptron(x,w):\n",
    "    z = np.dot(w,x)\n",
    "    y = stepFn(z)\n",
    "    return y\n",
    "\n",
    "def NOT(x1):\n",
    "    w = 3\n",
    "    return perceptron(w,x1)\n",
    "\n",
    "for inp in inputs:\n",
    "    x1 = inp\n",
    "    print(f\"NOT({x1}) =\", NOT(x1))"
   ]
  },
  {
   "cell_type": "code",
   "execution_count": 5,
   "id": "4d1694ad",
   "metadata": {
    "colab": {
     "base_uri": "https://localhost:8080/"
    },
    "executionInfo": {
     "elapsed": 11,
     "status": "ok",
     "timestamp": 1754657976556,
     "user": {
      "displayName": "Vedant Gadge",
      "userId": "16527948765948889680"
     },
     "user_tz": -330
    },
    "id": "4d1694ad",
    "outputId": "273be3fb-9967-44ea-9f81-082c753f4781"
   },
   "outputs": [
    {
     "name": "stdout",
     "output_type": "stream",
     "text": [
      "OR(0,0) = 0\n",
      "OR(0,1) = 1\n",
      "OR(1,0) = 1\n",
      "OR(1,1) = 1\n"
     ]
    }
   ],
   "source": [
    "inputs = [[0,0], [0,1], [1,0], [1,1]]\n",
    "\n",
    "def stepFn(z):\n",
    "    if z>=1:\n",
    "        return 1\n",
    "    else: return 0\n",
    "\n",
    "\n",
    "def perceptron(x,w):\n",
    "    z = np.dot(w,x)\n",
    "    y = stepFn(z)\n",
    "    return y\n",
    "\n",
    "def OR(x1,x2):\n",
    "    w = [2,2]\n",
    "    x = [x1,x2]\n",
    "    return perceptron(w,x)\n",
    "\n",
    "for inp in inputs:\n",
    "    x1, x2 = inp\n",
    "    print(f\"OR({x1},{x2}) =\", OR(x1, x2))"
   ]
  },
  {
   "cell_type": "code",
   "execution_count": 6,
   "id": "f908c99c",
   "metadata": {
    "colab": {
     "base_uri": "https://localhost:8080/"
    },
    "executionInfo": {
     "elapsed": 2,
     "status": "ok",
     "timestamp": 1754657976559,
     "user": {
      "displayName": "Vedant Gadge",
      "userId": "16527948765948889680"
     },
     "user_tz": -330
    },
    "id": "f908c99c",
    "outputId": "f283fba9-8a70-4975-9dbb-f6be4d6841ad"
   },
   "outputs": [
    {
     "name": "stdout",
     "output_type": "stream",
     "text": [
      "NOR(0,0) = 1\n",
      "NOR(0,1) = 0\n",
      "NOR(1,0) = 0\n",
      "NOR(1,1) = 0\n"
     ]
    }
   ],
   "source": [
    "inputs = [[0,0], [0,1], [1,0], [1,1]]\n",
    "\n",
    "def stepFn(z):\n",
    "    if z<1:\n",
    "        return 1\n",
    "    else: return 0\n",
    "\n",
    "\n",
    "def perceptron(x,w):\n",
    "    z = np.dot(w,x)\n",
    "    y = stepFn(z)\n",
    "    return y\n",
    "\n",
    "def NOR(x1,x2):\n",
    "    w = [4,2]\n",
    "    x = [x1,x2]\n",
    "    return perceptron(w,x)\n",
    "\n",
    "for inp in inputs:\n",
    "    x1, x2 = inp\n",
    "    print(f\"NOR({x1},{x2}) =\", OR(x1, x2))"
   ]
  },
  {
   "cell_type": "code",
   "execution_count": 17,
   "id": "0000e5a8",
   "metadata": {
    "colab": {
     "base_uri": "https://localhost:8080/"
    },
    "executionInfo": {
     "elapsed": 3,
     "status": "ok",
     "timestamp": 1754660480936,
     "user": {
      "displayName": "Vedant Gadge",
      "userId": "16527948765948889680"
     },
     "user_tz": -330
    },
    "id": "0000e5a8",
    "outputId": "6ce23684-0ee2-4568-d1eb-8d1038477046"
   },
   "outputs": [
    {
     "name": "stdout",
     "output_type": "stream",
     "text": [
      "NAND(0,0) = 1\n",
      "NAND(0,1) = 1\n",
      "NAND(1,0) = 1\n",
      "NAND(1,1) = 0\n"
     ]
    }
   ],
   "source": [
    "inputs = [[0,0], [0,1], [1,0], [1,1]]\n",
    "\n",
    "def stepFn(z):\n",
    "    if z>=-1:\n",
    "        return 1\n",
    "    else: return 0\n",
    "\n",
    "\n",
    "\n",
    "def perceptron(w,x):\n",
    "    z = np.dot(w,x)\n",
    "    y = stepFn(z)\n",
    "    return y\n",
    "\n",
    "def NAND(x1,x2):\n",
    "    w = [-1,-1]\n",
    "    x = [x1,x2]\n",
    "    return perceptron(w,x)\n",
    "\n",
    "for inp in inputs:\n",
    "    x1, x2 = inp\n",
    "    print(f\"NAND({x1},{x2}) =\", NAND(x1, x2))"
   ]
  },
  {
   "cell_type": "code",
   "execution_count": 19,
   "id": "kP00Ojuv7OyX",
   "metadata": {
    "colab": {
     "base_uri": "https://localhost:8080/"
    },
    "executionInfo": {
     "elapsed": 6,
     "status": "ok",
     "timestamp": 1754660871497,
     "user": {
      "displayName": "Vedant Gadge",
      "userId": "16527948765948889680"
     },
     "user_tz": -330
    },
    "id": "kP00Ojuv7OyX",
    "outputId": "7ac4a9b3-bda8-4a6c-cd1c-ca64d7034048"
   },
   "outputs": [
    {
     "name": "stdout",
     "output_type": "stream",
     "text": [
      "XOR(0,0) = 0\n",
      "XOR(0,1) = 1\n",
      "XOR(1,0) = 1\n",
      "XOR(1,1) = 0\n"
     ]
    }
   ],
   "source": [
    "inputs = [[0,0], [0,1], [1,0], [1,1]]\n",
    "\n",
    "def stepFn(z):\n",
    "    if z>=-1:\n",
    "        return 1\n",
    "    else: return 0\n",
    "\n",
    "\n",
    "def NAND(x1,x2):\n",
    "    w = [-1,-1]\n",
    "    x = [x1,x2]\n",
    "    return perceptron(w,x)\n",
    "\n",
    "def perceptron(w,x):\n",
    "    z = np.dot(w,x)\n",
    "    y = stepFn(z)\n",
    "    return y\n",
    "\n",
    "def XOR(x1,x2):\n",
    "    w = [-1,-1]\n",
    "    x = [x1,x2]\n",
    "    first_nand = NAND(x1,x2)\n",
    "    second_nand = NAND(x1,first_nand)\n",
    "    third_nand = NAND(x2,first_nand)\n",
    "    return NAND(second_nand,third_nand)\n",
    "\n",
    "for inp in inputs:\n",
    "    x1, x2 = inp\n",
    "    print(f\"XOR({x1},{x2}) =\", XOR(x1, x2))"
   ]
  }
 ],
 "metadata": {
  "accelerator": "GPU",
  "colab": {
   "gpuType": "T4",
   "provenance": []
  },
  "kernelspec": {
   "display_name": "Python 3",
   "name": "python3"
  },
  "language_info": {
   "codemirror_mode": {
    "name": "ipython",
    "version": 3
   },
   "file_extension": ".py",
   "mimetype": "text/x-python",
   "name": "python",
   "nbconvert_exporter": "python",
   "pygments_lexer": "ipython3",
   "version": "3.12.5"
  }
 },
 "nbformat": 4,
 "nbformat_minor": 5
}
